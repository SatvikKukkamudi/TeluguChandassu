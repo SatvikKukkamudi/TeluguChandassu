{
  "nbformat": 4,
  "nbformat_minor": 0,
  "metadata": {
    "colab": {
      "provenance": [],
      "authorship_tag": "ABX9TyPGnx1wODZ2p6EENKh6k0iQ",
      "include_colab_link": true
    },
    "kernelspec": {
      "name": "python3",
      "display_name": "Python 3"
    },
    "language_info": {
      "name": "python"
    }
  },
  "cells": [
    {
      "cell_type": "markdown",
      "metadata": {
        "id": "view-in-github",
        "colab_type": "text"
      },
      "source": [
        "<a href=\"https://colab.research.google.com/github/SatvikKukkamudi/TeluguChandassu/blob/main/Untitled0.ipynb\" target=\"_parent\"><img src=\"https://colab.research.google.com/assets/colab-badge.svg\" alt=\"Open In Colab\"/></a>"
      ]
    },
    {
      "cell_type": "code",
      "execution_count": 1,
      "metadata": {
        "colab": {
          "base_uri": "https://localhost:8080/"
        },
        "id": "XeZl5l5s4hdl",
        "outputId": "e0e2ca0f-c32f-4855-8c79-f637a95a95aa"
      },
      "outputs": [
        {
          "output_type": "stream",
          "name": "stdout",
          "text": [
            "Requirement already satisfied: regex in /usr/local/lib/python3.10/dist-packages (2024.5.15)\n"
          ]
        }
      ],
      "source": [
        "pip install regex"
      ]
    },
    {
      "cell_type": "code",
      "source": [
        "import regex as re"
      ],
      "metadata": {
        "id": "K5Dr4E0I4iQH"
      },
      "execution_count": 2,
      "outputs": []
    },
    {
      "cell_type": "code",
      "source": [
        "v=input(\"ఒక పదాన్ని నమోదు చేయండి :\")\n",
        "#input the telugu word here\n",
        "\n",
        "w=v\n",
        "\n",
        "\n",
        "\n",
        "\n",
        "U=[\"ా\",\"ీ\",\"ూ\",\"ౄ\",\"ౣ\",\"ే\",\"ై\",\"ో\",\"ౌ\",\"ః\"]\n",
        "L=[\"ఆ\",\"ఈ\",\"ఊ\",\"ౠ\",\"ౡ\",\"ఏ\",\"ఐ\",\"ఓ\",\"ఔ\",\"అః\"]\n",
        "N={\"UII\":\"భ గణము\",\n",
        "   \"IUI\":\"జ గణము\",\n",
        "   \"IIU\":\"స గణము\",\n",
        "   \"III\":\"న గణము\",\n",
        "   \"IUU\":\"య గణము\",\n",
        "   \"UIU\":\"ర గణము\",\n",
        "   \"UUI\":\"త గణము\",\n",
        "   \"UUU\":\"మ గణము\",\n",
        "   \"UI\":\"గల గణము\",\n",
        "   \"IIIU\":\"నగ గణము\",\n",
        "   \"IIUI\":\"సల గణము\",\n",
        "   \"IIII\":\"నల గణము\",\n",
        "   \"UIII\":\"భల గణము\",\n",
        "   \"UIIU\":\"భగరు గణము\",\n",
        "   \"UUII\":\"తల గణము\",\n",
        "   \"UUIU\":\"తగ గణము\",\n",
        "   \"UUUI\":\"మలఘ గణము\",\n",
        "   \"IIIII\":\"నలల గణము\",\n",
        "   \"IIIUU\":\"నగగ గణము\",\n",
        "   \"IIIIU\":\"నవ గణము\",\n",
        "   \"IIUUI\":\"సహ గణము\",\n",
        "   \"IIUIU\":\"సవ గణము\",\n",
        "   \"IIUUU\":\"సగగ గణము\",\n",
        "   \"IIIUI\":\"నహ గణము\",\n",
        "   \"UIUU\":\"రగురు గణము\",\n",
        "   \"IIII\":\"నల గణము\",}\n",
        "\n",
        "\n",
        "l=['క్','ఖ్','గ్','ఘ్','ఙ్','చ్','ఛ్','జ్','ఝ్','ఞ్','ట్','ఠ్','డ్','ఢ్','ణ్','త్','థ్','ద్','ధ్',\n",
        "   'న్','ప్','ఫ్','బ్','భ్','మ్','య్','ర్','ల్','వ్','శ్','ష్','స్','హ్','ళ్','క్ష్','ఱ్']\n",
        "f=[]\n",
        "out=\"\"\n",
        "v=list(v.split())\n",
        "\n",
        "\n",
        "for text in v:\n",
        "  k=(re.findall(r'\\X', text, re.U))\n",
        "\n",
        "\n",
        "\n",
        "ele=k.pop()\n",
        "res = [i for i in k if i not in l]\n",
        "res.append(ele)\n",
        "\n",
        "\n",
        "for i in res:\n",
        "  k=str(i)\n",
        "  for i in k:\n",
        "    f.append(i)\n",
        "\n",
        "  if any(x in U for x in f):\n",
        "    out+=\"U\"\n",
        "  elif any(x in L for x in f):\n",
        "    out+=\"U\"\n",
        "  else:\n",
        "    out+=\"I\"\n",
        "  f.clear()\n",
        "\n",
        "print(\"\",out)\n",
        "print(w+\" అనే పదం \"+ N[out] +\"కు చెందినది\")"
      ],
      "metadata": {
        "colab": {
          "base_uri": "https://localhost:8080/"
        },
        "id": "Hy3uINVN4iSm",
        "outputId": "182162ed-c00e-4519-f3a9-b1de93460c13"
      },
      "execution_count": 3,
      "outputs": [
        {
          "output_type": "stream",
          "name": "stdout",
          "text": [
            "ఒక పదాన్ని నమోదు చేయండి :ప్రతీక్ష\n",
            " IUI\n",
            "ప్రతీక్ష అనే పదం జ గణముకు చెందినది\n"
          ]
        }
      ]
    },
    {
      "cell_type": "code",
      "source": [],
      "metadata": {
        "id": "vP8RevJZ4iVL"
      },
      "execution_count": null,
      "outputs": []
    },
    {
      "cell_type": "code",
      "source": [],
      "metadata": {
        "id": "8fIAbiyj4iXW"
      },
      "execution_count": null,
      "outputs": []
    },
    {
      "cell_type": "code",
      "source": [],
      "metadata": {
        "id": "EPXv8Pz34iZ2"
      },
      "execution_count": null,
      "outputs": []
    }
  ]
}